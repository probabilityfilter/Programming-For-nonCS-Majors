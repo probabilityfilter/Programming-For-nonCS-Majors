{
 "cells": [
  {
   "cell_type": "markdown",
   "metadata": {},
   "source": [
    "# Adding two numbers\n",
    "Let us take a simple task of adding two numbers.\n",
    "\n",
    "## Version 0\n",
    "The first impulse would be to proceed like a calculator. Type the first number followed by the '+' sign and then the second number. It would look like this and it does the job!"
   ]
  },
  {
   "cell_type": "code",
   "execution_count": 2,
   "metadata": {},
   "outputs": [
    {
     "data": {
      "text/plain": [
       "8"
      ]
     },
     "execution_count": 2,
     "metadata": {},
     "output_type": "execute_result"
    }
   ],
   "source": [
    "3 + 5"
   ]
  },
  {
   "cell_type": "markdown",
   "metadata": {},
   "source": [
    "If you need to add another pair of numbers then you would repeat the above step, like this ....."
   ]
  },
  {
   "cell_type": "code",
   "execution_count": 3,
   "metadata": {},
   "outputs": [
    {
     "data": {
      "text/plain": [
       "32"
      ]
     },
     "execution_count": 3,
     "metadata": {},
     "output_type": "execute_result"
    }
   ],
   "source": [
    "10 + 22"
   ]
  },
  {
   "cell_type": "markdown",
   "metadata": {},
   "source": [
    "### Variables\n",
    "Now let us add a slight complication, assume that you were not given the numbers ahead of time, you just have to be ready. This is where we introduce the concept of **variable**. Variable can be visualized as a container that can store a value. If an action is performed on a variable then it is same as performing that action on the content of the variable. So instead of typing *10 + 22* we can type....."
   ]
  },
  {
   "cell_type": "code",
   "execution_count": 1,
   "metadata": {},
   "outputs": [
    {
     "data": {
      "text/plain": [
       "32"
      ]
     },
     "execution_count": 1,
     "metadata": {},
     "output_type": "execute_result"
    }
   ],
   "source": [
    "a = 10\n",
    "b = 22\n",
    "answer = a + b\n",
    "answer"
   ]
  },
  {
   "cell_type": "markdown",
   "metadata": {},
   "source": [
    "*Side Note 1: Typing the name of a variable and executing that line prints out the contents on that variable*\n",
    "\n",
    "Now that our code is starting to have multiple lines, it would be a good time to get into the habbit of **commenting** the code. Commenting is like leaving notes for the reader to make sense of the code. You can leave a comment by first typing a pound (#) sign and then your message."
   ]
  },
  {
   "cell_type": "code",
   "execution_count": 2,
   "metadata": {},
   "outputs": [
    {
     "data": {
      "text/plain": [
       "32"
      ]
     },
     "execution_count": 2,
     "metadata": {},
     "output_type": "execute_result"
    }
   ],
   "source": [
    "a = 10 #Variable 'a' is assigned the value 10\n",
    "b = 22 #Variable 'b' is assigned the value 2\n",
    "answer = a + b #Variable 'answer' is assigned the sum of 'a' and 'b'\n",
    "answer #Printing the contents of variable 'answer'"
   ]
  },
  {
   "cell_type": "markdown",
   "metadata": {},
   "source": [
    "One of the benifits of using a variable is that it can be used at multiple locations in the code. For example, if you change your mind and would prefer a product instead of a sum of the same numbers, then all you have to do is ....."
   ]
  },
  {
   "cell_type": "code",
   "execution_count": 3,
   "metadata": {},
   "outputs": [
    {
     "data": {
      "text/plain": [
       "220"
      ]
     },
     "execution_count": 3,
     "metadata": {},
     "output_type": "execute_result"
    }
   ],
   "source": [
    "answer = a * b #Multiply two numbers\n",
    "answer"
   ]
  },
  {
   "cell_type": "markdown",
   "metadata": {},
   "source": [
    "Note how we did not have to specify the numbers themselves. The program remembered the values from line 5\n",
    "\n",
    "### Best Practice #0: Use variables when writing code\n",
    "### Best Practice #1: Provide concise but clear comments for the code\n",
    "\n",
    "At this point it would be a good idea to go to these online resouces to learn more about the variables, example, the different type of variables, what you can and cannot do with the variable etc.\n",
    "\n",
    "It might seem that the comments we left in the above code are excessive but remember we are getting into the habbit of leaving comments."
   ]
  }
 ],
 "metadata": {
  "kernelspec": {
   "display_name": "Python 3",
   "language": "python",
   "name": "python3"
  },
  "language_info": {
   "codemirror_mode": {
    "name": "ipython",
    "version": 3
   },
   "file_extension": ".py",
   "mimetype": "text/x-python",
   "name": "python",
   "nbconvert_exporter": "python",
   "pygments_lexer": "ipython3",
   "version": "3.6.1"
  }
 },
 "nbformat": 4,
 "nbformat_minor": 2
}
